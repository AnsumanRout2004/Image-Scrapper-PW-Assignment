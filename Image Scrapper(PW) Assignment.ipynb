{
 "cells": [
  {
   "cell_type": "code",
   "execution_count": 6,
   "id": "2555beb7-4789-448d-8704-b643c3d007d5",
   "metadata": {},
   "outputs": [
    {
     "name": "stdout",
     "output_type": "stream",
     "text": [
      "Collecting yt-dlp\n",
      "  Downloading yt_dlp-2025.3.27-py3-none-any.whl.metadata (172 kB)\n",
      "     ---------------------------------------- 0.0/172.1 kB ? eta -:--:--\n",
      "     ---- -------------------------------- 20.5/172.1 kB 330.3 kB/s eta 0:00:01\n",
      "     --------------------------------- ---- 153.6/172.1 kB 1.5 MB/s eta 0:00:01\n",
      "     -------------------------------------- 172.1/172.1 kB 1.5 MB/s eta 0:00:00\n",
      "Downloading yt_dlp-2025.3.27-py3-none-any.whl (3.2 MB)\n",
      "   ---------------------------------------- 0.0/3.2 MB ? eta -:--:--\n",
      "   ------ --------------------------------- 0.6/3.2 MB 11.8 MB/s eta 0:00:01\n",
      "   -------------- ------------------------- 1.2/3.2 MB 12.8 MB/s eta 0:00:01\n",
      "   ------------------------- -------------- 2.0/3.2 MB 14.4 MB/s eta 0:00:01\n",
      "   -------------------------------------- - 3.1/3.2 MB 16.5 MB/s eta 0:00:01\n",
      "   ---------------------------------------- 3.2/3.2 MB 15.8 MB/s eta 0:00:00\n",
      "Installing collected packages: yt-dlp\n",
      "Successfully installed yt-dlp-2025.3.27\n"
     ]
    }
   ],
   "source": [
    "\n",
    "!pip install yt-dlp\n"
   ]
  },
  {
   "cell_type": "code",
   "execution_count": 8,
   "id": "be9b4095-7dea-410b-870a-10d77047244c",
   "metadata": {},
   "outputs": [
    {
     "name": "stdout",
     "output_type": "stream",
     "text": [
      "Data saved to youtube_videos.csv\n"
     ]
    }
   ],
   "source": [
    "import yt_dlp\n",
    "import pandas as pd\n",
    "\n",
    "# YouTube channel URL\n",
    "channel_url = \"https://www.youtube.com/@PW-Foundation/videos\"\n",
    "\n",
    "# Set up yt_dlp options\n",
    "ydl_opts = {\n",
    "    'quiet': True,\n",
    "    'extract_flat': True,  # Only extract video metadata, not download\n",
    "    'playlistend': 5,  # Limit to first 5 videos\n",
    "}\n",
    "\n",
    "# Extract video metadata\n",
    "with yt_dlp.YoutubeDL(ydl_opts) as ydl:\n",
    "    info = ydl.extract_info(channel_url, download=False)\n",
    "\n",
    "# Extract required details\n",
    "data = []\n",
    "for entry in info['entries'][:5]:\n",
    "    video_data = {\n",
    "        \"Video URL\": entry['url'],\n",
    "        \"Thumbnail URL\": entry.get('thumbnail', 'N/A'),\n",
    "        \"Title\": entry['title'],\n",
    "        \"Views\": entry.get('view_count', 'N/A'),\n",
    "        \"Upload Time\": entry.get('upload_date', 'N/A'),\n",
    "    }\n",
    "    data.append(video_data)\n",
    "\n",
    "# Save to CSV\n",
    "csv_filename = \"youtube_videos.csv\"\n",
    "df = pd.DataFrame(data)\n",
    "df.to_csv(csv_filename, index=False)\n",
    "\n",
    "print(f\"Data saved to {csv_filename}\")\n"
   ]
  },
  {
   "cell_type": "code",
   "execution_count": null,
   "id": "c094de3e-5175-4c0b-bb29-64db9efbbe6b",
   "metadata": {},
   "outputs": [],
   "source": []
  },
  {
   "cell_type": "code",
   "execution_count": null,
   "id": "b5a689ff-632a-437a-926f-e0affdd92b8c",
   "metadata": {},
   "outputs": [],
   "source": []
  },
  {
   "cell_type": "code",
   "execution_count": null,
   "id": "97e901d1-cdd7-4b67-954e-7c01ef67a213",
   "metadata": {},
   "outputs": [],
   "source": []
  },
  {
   "cell_type": "code",
   "execution_count": null,
   "id": "5ede0bba-f10c-49ba-855b-88f2feab18c4",
   "metadata": {},
   "outputs": [],
   "source": []
  },
  {
   "cell_type": "code",
   "execution_count": null,
   "id": "2fa34a9d-da7d-40eb-8747-3daa8eea0c11",
   "metadata": {},
   "outputs": [],
   "source": []
  },
  {
   "cell_type": "code",
   "execution_count": null,
   "id": "46814008-6e1c-45b3-8f2c-a2ace62792fb",
   "metadata": {},
   "outputs": [],
   "source": []
  },
  {
   "cell_type": "code",
   "execution_count": null,
   "id": "53b543b5-ca8e-4e23-9bc4-02c6c7536e0f",
   "metadata": {},
   "outputs": [],
   "source": []
  },
  {
   "cell_type": "code",
   "execution_count": null,
   "id": "175f4661-b76e-4319-b7d0-facf2b80a6e7",
   "metadata": {},
   "outputs": [],
   "source": []
  },
  {
   "cell_type": "code",
   "execution_count": null,
   "id": "798dcbda-1c4c-4b7c-8f50-05090c1ce00d",
   "metadata": {},
   "outputs": [],
   "source": []
  },
  {
   "cell_type": "code",
   "execution_count": null,
   "id": "0b7fbbeb-3881-4def-82d0-b4ad523d69eb",
   "metadata": {},
   "outputs": [],
   "source": []
  },
  {
   "cell_type": "code",
   "execution_count": null,
   "id": "74548e92-45e8-4cfd-b1d4-bcb971e506c7",
   "metadata": {},
   "outputs": [],
   "source": []
  }
 ],
 "metadata": {
  "kernelspec": {
   "display_name": "Python [conda env:base] *",
   "language": "python",
   "name": "conda-base-py"
  },
  "language_info": {
   "codemirror_mode": {
    "name": "ipython",
    "version": 3
   },
   "file_extension": ".py",
   "mimetype": "text/x-python",
   "name": "python",
   "nbconvert_exporter": "python",
   "pygments_lexer": "ipython3",
   "version": "3.11.7"
  }
 },
 "nbformat": 4,
 "nbformat_minor": 5
}
